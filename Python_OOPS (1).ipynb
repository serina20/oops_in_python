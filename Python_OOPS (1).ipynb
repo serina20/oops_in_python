{
  "nbformat": 4,
  "nbformat_minor": 0,
  "metadata": {
    "colab": {
      "provenance": []
    },
    "kernelspec": {
      "name": "python3",
      "display_name": "Python 3"
    },
    "language_info": {
      "name": "python"
    }
  },
  "cells": [
    {
      "cell_type": "markdown",
      "source": [
        "# PYTHON OOPS\n",
        "\n",
        "1. What is Object-Oriented Programming (OOP)?\n",
        "- Object-Oriented Programming (OOP) is a widely used programming paradigm that structures software around objects rather than functions and logic. The core idea is to model real-world entities or concepts as \"objects\" in your code.\n",
        "2. What is a class in OOP?\n",
        "- In Object-Oriented Programming (OOP), a class is the fundamental building block. It's essentially a blueprint, template, or a master plan for creating objects.\n",
        "3. What is an object in OOP?\n",
        "- An object is an instance of a class. An object is something that comprises of two main parts:\n",
        "-> Data: the actual data (attributes/ features) of the class.\n",
        "-> Methods: the function that operates on the data.\n",
        "4. What is the difference between abstraction and encapsulation?\n",
        "-> Abstraction and Encapsulation are two fundamental concepts in Object-Oriented Programming. They both involve \"hiding\" details. However, they serve distinct purposes and operate at different levels.\n",
        "- Abstraction: Hiding complex implementation details and showing only essential features. Focuses on \"what\" an object does. Eg. driving a car without knowing the internal working of one.\n",
        "- Encapsulation: Bundling data and methods together within a class and controlling access to that data. Eg. Making a car's engine details private, accessible only by professionals.\n",
        "5. What are dunder methods in Python?\n",
        "-> In Python, dunder methods (short for \"double underscore methods\") are special methods that have names starting and ending with two underscores. Eg. `__init__` or `__add__`.\n",
        "6. Explain the concept of inheritance in OOP.\n",
        "-> Inheritance is a fundamental concept in Object-Oriented Programming that allows a new class (called the subclass, derived class, or child class) to inherit properties and behaviors (attributes and methods) from an existing class (called the superclass, base class, or parent class). Its primary benefits are:\n",
        "- Code resuability.\n",
        "- Extensivity.\n",
        "- Code management and maintainability.\n",
        "7. What is polymorphism in OOP?\n",
        "-> Polymorphism ('poly' - many & 'morph' - form) in Object Oriented Progarmming is the ability of an object to take on many forms, or more precisely, the ability to process objects of different types through a single, common interface. It allows you to define a common interface (eg. a method name) in a base class, and then derived classes can implement that method in a differnt specified way(s).\n",
        "8. How is encapsulation achieved in Python?\n",
        "-> In Python, encapsulation is achieved more through conventions and programming practices rather than strict, enforced access modifiers like in languages such as Java or C++.\n",
        "Encapsulation in Python is achieved  by:\n",
        "- Classes: Bundle data (attributes) and functions (methods) into a single unit.\n",
        "- Single Underscore: Prefixing attributes/methods with '_' indicates they are 'protected' but access isn't strictly enforced.\n",
        "- Double Underscore: Prefixing with '__' changes the name internally, making direct external access harder. Primarily for preventing name clashes in inheritance.\n",
        "- @property Decorator: The way to create controlled \"getters\" and \"setters\" for attributes, allowing validation and computed values while maintaining a simple access syntax.\n",
        "9. What is a constructor in Python?\n",
        "- In Python the term 'constructor' is commonly used for `__init__` method. The `__init__` method is a special method in Python used to initiallize the attribute of a newly created object (instance) of a class. It gets called automatically when a new object has been created in a class.\n",
        "10. What are class and static methods in Python?\n",
        "-> Class Methods:\n",
        "- Decorator: Defined using the @classmethod decorator.\n",
        "- First Argument: Automatically receives the class itself as its first argument, conventionally named cls.\n",
        "- Purpose: Alternative Constructors, common for creating objects in different ways.\n",
        "Staic methods:\n",
        "- Decorator: Defined using the @staticmethod decorator.\n",
        "- No Special Arguments: Does not receive self (instance) or cls (class) as its first argument. It's just like a regular function defined inside a class.\n",
        "- Purpose: Used for utility functions that logically belong to the class but don't need to access or modify any class or instance specific data.\n",
        "11. What is method overloading in Python?\n",
        "-> In Python, true method overloading (multiple methods with the same name, different parameters) isn't supported; the last definition always overrides previous ones. Instead, you achieve similar flexibility in a single method using default arguments, args / kwargs, or type checking (isinstance()) for varied inputs. This is known as Method overloading.\n",
        "12. What is method overriding in OOP?\n",
        "-> Method overriding in Object-Oriented Programming is a powerful feature that allows a subclass (or child class) to provide a specific implementation for a method that is already defined in its superclass (or parent class). This concept is fundamental to achieving runtime polymorphism, enabling different types of objects to respond to the same method call in their own unique ways, making code more flexible, extensible, and adaptable to specialized behaviors without altering the base class.\n",
        "13. What is a property decorator in Python?\n",
        "-> The @property decorator in Python is a built-in decorator that allows you to treat a method as an attribute. Its primary purpose is to provide a \"Pythonic\" way to implement controlled access (getters, setters, and deleters) for class attributes, thereby enhancing encapsulation and data integrity without breaking the external interface of your class.\n",
        "14. Why is polymorphism important in OOP?\n",
        "-> Polymorphism is incredibly important in OOP because it brings about flexibility, extensibility, and reusability in code. It allows you to write generic code that can operate on objects of different types, provided they share a common interface.\n",
        "15. What is an abstract class in Python?\n",
        "-> In Python, an abstract class serves as a blueprint for other classes. It cannot be instantiated directly, meaning you cannot create objects from it. Instead, its primary purpose is to define a common interface and potentially some shared behavior that its subclasses must implement.\n",
        "16. What are the advantages of OOP?\n",
        "- Some of the advantages of OOP are:\n",
        "-> Modularity: OOP encourages breaking down a large, complex problem into smaller, manageable, and self-contained units (objects) where each object is responsible for a specific part of the system. This modularity leads to highly organized code, making it easier to understand, navigate, and debug the code.\n",
        "-> Reusablity: One of the most powerful feature of OOP is inheritance where common functionalities can be defined in a parent class and then inherited by multiple child classes.\n",
        "-> Extensibility: OOP makes it easier to extend functionality without modifying existing code. You can add new features by creating new classes that inherit from existing ones, or by composing new objects from existing ones.\n",
        "17. What is the difference between a class variable and an instance variable?\n",
        "-> Class Variable:\n",
        "- Definition: Defined directly within the class body, outside of any methods.\n",
        "- Ownership: Owned by the class itself.\n",
        "- Sharing: Shared by all instances (objects) of that class. If you change a class variable using the class name, the change is reflected in all existing and future instances.\n",
        "-> Instance Variable:\n",
        "- Definition: Defined inside a method (typically the `__init__` constructor) and associated with self.\n",
        "- Ownership: Owned by individual instances (objects) of the class.\n",
        "- Sharing: Each instance has its own unique copy of the instance variables. Changes to an instance variable in one object do not affect the same variable in other objects.\n",
        "18. What is multiple inheritance in Python?\n",
        "-> Multiple inheritance in Python is an OOP feature that allows a class to inherit attributes and methods from more than one parent class. This means a single child class can combine the functionalities of several distinct base classes.\n",
        "19. Explain the purpose of `__str__` and `__repr__` methods in Python.\n",
        "-> `__str__` (for \"string\"):\n",
        "- Purpose: To provide an informal, human-readable string representation of an object. This is what you'd typically want to show to an end-user.\n",
        "- Called by: The built-in print() function & The built-in str() constructor.\n",
        "- Output: Should be concise, easy to understand, and provide a user-friendly overview of the object's state.\n",
        "-> `__repr__` (for \"representation\"):\n",
        "- Purpose: To provide an official, unambiguous, developer-focused string representation of an object. This is primarily for debugging, logging, and inspection.\n",
        "- Called by: The built-in repr() function.\n",
        "- Output: Ideally, the string returned by `__repr__` should be a valid Python expression that, when evaluated (eval()), could recreate an object with the same value (if possible). If not, it should be an informative string, typically including the class name and essential attributes. It prioritizes clarity for the developer over aesthetics for the user.\n",
        "20. What is the significance of the super() function in Python?\n",
        "- The super() function in Python is a significant tool in OOP, especially when dealing with inheritance. Its primary purpose is to provide a way to call methods from a parent (superclass) or sibling class in the Method Resolution Order (MRO), allowing for proper collaboration and extension of functionality within an inheritance hierarchy.\n",
        "21. What is the significance of the `__del__`method in Python?\n",
        "-> The `__del__` method in Python is known as the destructor method. Its significance lies in its role during an object's cleanup phase before it's removed from memory by Python's garbage collector.\n",
        "22. What is the difference between @staticmethod and @classmethod in Python?\n",
        "-> @staticmethod:\n",
        "- No Implicit First Argument: It does not automatically receive the instance (self) or the class (cls) as its first argument.\n",
        "- Purpose: Behaves like a regular function defined inside a class. It belongs to the class's namespace but doesn't interact with the class's state or any instance's state.\n",
        "- Use Case: Utility functions that logically belong to the class but don't need access to instance-specific data or class-specific data.\n",
        "- Independent: Can be called on the class or an instance, but its behavior is always the same as it doesn't depend on the object or class it's called from.\n",
        "-> @classmethod\n",
        "- Implicit First Argument (cls): It automatically receives the class itself as its first argument, conventionally named cls.\n",
        "- Purpose: Operates on the class itself rather than an instance. It can access and modify class-level attributes.\n",
        "Use Case: Alternative Constructors: Common for creating new instances of the class (or its subclasses) in different ways. For example, ClassName.from_string(\"data\").\n",
        "- Bound to the Class: It's bound to the class and understands the class's structure, even if called on an instance.\n",
        "23. How does polymorphism work in Python with inheritance?\n",
        "-> Polymorphism with inheritance in Python enables you to design a flexible system where you interact with objects based on what they can do (their common methods), rather than what they specifically are. This allows you to add new, specialized types to your system without changing the code that processes them, leading to highly extensible, reusable, and maintainable applications.\n",
        "24. What is method chaining in Python OOP?\n",
        "-> Method chaining in Python OOP is a programming technique where you call multiple methods on the same object in a single, continuous line of code. This creates a \"chain\" of operations, with each method in the chain typically returning the object itself (or a new, modified object that can also be chained), allowing the next method call to operate on the result of the previous one.\n",
        "25. What is the purpose of the `__call__` method in Python?\n",
        "-> The `__call__` method in Python is a special dunder method that allows an instance of a class to be called like a function. If a class implements this method, then objects created from that class become \"callable\" objects.\n",
        "\n",
        "\n",
        "\n",
        "\n",
        "\n"
      ],
      "metadata": {
        "id": "2iB8LjsBmvQx"
      }
    },
    {
      "cell_type": "code",
      "source": [
        "# 1. Create a parent class Animal with a method speak() that prints a generic message. Create a child class Dog that overrides the speak() method to print \"Bark!\".\n",
        "\n",
        "\n",
        "# Define the parent class 'Animal'\n",
        "class Animal:\n",
        "\n",
        "    def speak(self):\n",
        "\n",
        "        print(\"This animal makes a sound.\")\n",
        "\n",
        "# Define the child class 'Dog' that inherits from 'Animal'\n",
        "class Dog(Animal):\n",
        "\n",
        "    def speak(self):\n",
        "\n",
        "        print(\"Bark!\")\n",
        "\n",
        "class Cat(Animal):\n",
        "    def speak(self):\n",
        "      print(\"Meow!\")\n",
        "\n",
        "# Create an instance of the parent class Animal\n",
        "generic_animal = Animal()\n",
        "print(\"Calling speak() on a generic Animal object:\")\n",
        "generic_animal.speak()\n",
        "print(\"-\" * 40)\n",
        "\n",
        "# Create an instance of the child class Dog\n",
        "my_dog = Dog()\n",
        "print(\"Calling speak() on a Dog object:\")\n",
        "my_dog.speak()\n",
        "print(\"-\" * 40)\n",
        "\n",
        "# Create an instance of the child class Cat\n",
        "my_cat = Cat()\n",
        "print(\"Calling speak() on a Cat object:\")\n",
        "my_cat.speak()"
      ],
      "metadata": {
        "id": "SRZjDwt6hY5K",
        "colab": {
          "base_uri": "https://localhost:8080/"
        },
        "outputId": "eea9f12b-c439-4e35-d455-79fb8f1ea361"
      },
      "execution_count": 116,
      "outputs": [
        {
          "output_type": "stream",
          "name": "stdout",
          "text": [
            "Calling speak() on a generic Animal object:\n",
            "This animal makes a sound.\n",
            "----------------------------------------\n",
            "Calling speak() on a Dog object:\n",
            "Bark!\n",
            "----------------------------------------\n",
            "Calling speak() on a Cat object:\n",
            "Meow!\n"
          ]
        }
      ]
    },
    {
      "cell_type": "code",
      "source": [
        "# 2. Write a program to create an abstract class Shape with a method area(). Derive classes Circle and Rectangle from it and implement the area() method in both.\n",
        "\n",
        "from abc import ABC, abstractmethod\n",
        "\n",
        "# Define the abstract base class 'Shape'\n",
        "class Shape(ABC):\n",
        "\n",
        "    @abstractmethod\n",
        "    def area(self):\n",
        "\n",
        "        pass\n",
        "\n",
        "    def get_type(self):\n",
        "\n",
        "        return self.__class__.__name__\n",
        "\n",
        "\n",
        "# Define the concrete child class 'Circle'\n",
        "class Circle(Shape):\n",
        "\n",
        "    def __init__(self, radius):\n",
        "\n",
        "        self.radius = radius\n",
        "\n",
        "    def area(self):\n",
        "\n",
        "        return 3.14159 * self.radius ** 2   # Calculates and returns the area of the circle.\n",
        "\n",
        "\n",
        "# Define the concrete child class 'Rectangle'\n",
        "class Rectangle(Shape):\n",
        "\n",
        "    def __init__(self, width, height):\n",
        "\n",
        "        self.width = width\n",
        "        self.height = height\n",
        "\n",
        "    def area(self):\n",
        "\n",
        "        return self.width * self.height   # Calculates and returns the area of the rectangle.\n",
        "\n",
        "\n",
        "\n",
        "\n",
        "# Create instances of Circle and Rectangle\n",
        "circle1 = Circle(radius=7)\n",
        "rectangle1 = Rectangle(width=5, height=10)\n",
        "\n",
        "print(f\"Shape Type: {circle1.get_type()} \\n Radius: {circle1.radius}, \\n Area: {circle1.area():.2f}\")\n",
        "print(\"--\" *15)\n",
        "print(f\"Shape Type: {rectangle1.get_type()}\\n Width: {rectangle1.width}\\n Height: {rectangle1.height}\\n Area: {rectangle1.area():.2f}\")\n",
        "\n"
      ],
      "metadata": {
        "colab": {
          "base_uri": "https://localhost:8080/"
        },
        "id": "c4fCtimyjNrV",
        "outputId": "9dcff12a-7bbb-4597-f093-b98e8bd81cef"
      },
      "execution_count": 117,
      "outputs": [
        {
          "output_type": "stream",
          "name": "stdout",
          "text": [
            "Shape Type: Circle \n",
            " Radius: 7, \n",
            " Area: 153.94\n",
            "------------------------------\n",
            "Shape Type: Rectangle\n",
            " Width: 5\n",
            " Height: 10\n",
            " Area: 50.00\n"
          ]
        }
      ]
    },
    {
      "cell_type": "code",
      "source": [
        "# 3. Implement a multi-level inheritance scenario where a class Vehicle has an attribute type. Derive a class Car and further derive a class ElectricCar that adds a battery attribute.\n",
        "\n",
        "\n",
        "# Define the base class 'Vehicle'\n",
        "class Vehicle:\n",
        "\n",
        "    def __init__(self, vehicle_type):\n",
        "\n",
        "        self.type = vehicle_type\n",
        "        print(f\"Vehicle created: Type - {self.type}\")\n",
        "\n",
        "    def get_info(self):\n",
        "\n",
        "        return f\"Type: {self.type}\"\n",
        "\n",
        "# Define the intermediate class 'Car' which inherits from 'Vehicle'\n",
        "class Car(Vehicle):\n",
        "\n",
        "    def __init__(self, brand, model):\n",
        "\n",
        "        super().__init__(\"Car\")\n",
        "        self.brand = brand\n",
        "        self.model = model\n",
        "        print(f\"Car created: Brand - {self.brand}, Model - {self.model}\")\n",
        "\n",
        "    def get_info(self):\n",
        "\n",
        "        return f\"{super().get_info()}, Brand: {self.brand}, Model: {self.model}\"\n",
        "\n",
        "# Define the derived class 'ElectricCar' which inherits from 'Car'\n",
        "class ElectricCar(Car):\n",
        "\n",
        "    def __init__(self, brand, model, battery_kwh):\n",
        "\n",
        "        super().__init__(brand, model) # Call Car's constructor\n",
        "        self.battery_kwh = battery_kwh\n",
        "        print(f\"Electric Car created: Battery - {self.battery_kwh} kWh\")\n",
        "\n",
        "    def get_info(self):\n",
        "\n",
        "        return f\"{super().get_info()}, Battery: {self.battery_kwh} kWh\"\n",
        "\n",
        "\n",
        "\n",
        "# Create an instance of the base class Vehicle\n",
        "print(\"\\nCreating a generic Vehicle:\")\n",
        "generic_vehicle = Vehicle(\"Motorcycle\")\n",
        "print(f\"Info: {generic_vehicle.get_info()}\")\n",
        "print(\"-\" * 30)\n",
        "\n",
        "# Create an instance of the Car class\n",
        "print(\"\\nCreating a Car:\")\n",
        "my_car = Car(\"Toyota\", \"Camry\")\n",
        "print(f\"Info: {my_car.get_info()}\")\n",
        "print(\"-\" * 30)\n",
        "\n",
        "# Create an instance of the ElectricCar class\n",
        "print(\"\\nCreating an Electric Car:\")\n",
        "my_electric_car = ElectricCar(\"Tesla\", \"Model 3\", 75)\n",
        "print(f\"Info: {my_electric_car.get_info()}\")\n",
        "\n",
        "\n",
        "\n"
      ],
      "metadata": {
        "colab": {
          "base_uri": "https://localhost:8080/"
        },
        "id": "nudaEBnSsN9F",
        "outputId": "3fe42bbe-cd90-44b2-d145-651772a2c54a"
      },
      "execution_count": 118,
      "outputs": [
        {
          "output_type": "stream",
          "name": "stdout",
          "text": [
            "\n",
            "Creating a generic Vehicle:\n",
            "Vehicle created: Type - Motorcycle\n",
            "Info: Type: Motorcycle\n",
            "------------------------------\n",
            "\n",
            "Creating a Car:\n",
            "Vehicle created: Type - Car\n",
            "Car created: Brand - Toyota, Model - Camry\n",
            "Info: Type: Car, Brand: Toyota, Model: Camry\n",
            "------------------------------\n",
            "\n",
            "Creating an Electric Car:\n",
            "Vehicle created: Type - Car\n",
            "Car created: Brand - Tesla, Model - Model 3\n",
            "Electric Car created: Battery - 75 kWh\n",
            "Info: Type: Car, Brand: Tesla, Model: Model 3, Battery: 75 kWh\n"
          ]
        }
      ]
    },
    {
      "cell_type": "code",
      "source": [
        "# 4. Demonstrate polymorphism by creating a base class Bird with a method fly(). Create two derived classes Sparrow and Penguin that override the fly() method.\n",
        "\n",
        "\n",
        "# Define the base class 'Bird'\n",
        "class Bird:\n",
        "\n",
        "    def fly(self):\n",
        "\n",
        "        print(\"This bird flies.\")\n",
        "\n",
        "# Define the derived class 'Sparrow'\n",
        "class Sparrow(Bird):\n",
        "\n",
        "    def fly(self):\n",
        "\n",
        "        print(\"Sparrows can fly.\")\n",
        "\n",
        "# Define the derived class 'Penguin'\n",
        "class Penguin(Bird):\n",
        "\n",
        "    def fly(self):\n",
        "\n",
        "        print(\"Penguins cannot fly.\")\n",
        "\n",
        "# Calling the functions\n",
        "b1 = Bird()\n",
        "s1 = Sparrow()\n",
        "p1 = Penguin()\n",
        "\n",
        "# Callin the methods\n",
        "b1.fly()\n",
        "s1.fly()\n",
        "p1.fly()\n"
      ],
      "metadata": {
        "colab": {
          "base_uri": "https://localhost:8080/"
        },
        "id": "myeWz5UMsdkr",
        "outputId": "c6d9bce1-1cc0-474f-feb7-d90ceb88afb1"
      },
      "execution_count": 120,
      "outputs": [
        {
          "output_type": "stream",
          "name": "stdout",
          "text": [
            "This bird flies.\n",
            "Sparrows can fly.\n",
            "Penguins cannot fly.\n"
          ]
        }
      ]
    },
    {
      "cell_type": "code",
      "source": [
        "#5. Write a program to demonstrate encapsulation by creating a class BankAccount with private attributes balance and methods to deposit, withdraw, and check balance.\n",
        "\n",
        "class BankAccount:\n",
        "  def __init__(self, owner, balance):\n",
        "    self.owner = owner\n",
        "    self.__balance = balance\n",
        "\n",
        "  def deposit(self, amount):\n",
        "    self.amount = amount\n",
        "    if (self.amount < 0):\n",
        "      print(\"Invalid amount\")\n",
        "    else:\n",
        "      self.__balance += self.amount\n",
        "\n",
        "  def withdraw(self, amount):\n",
        "    if (amount <= self.__balance):\n",
        "      self.__balance -= amount\n",
        "    else:\n",
        "      print(\"Insufficient funds\")\n",
        "\n",
        "  def get_balance(self):\n",
        "    return self.__balance\n",
        "\n",
        "# Test the BankAccount class\n",
        "a1 = BankAccount(\"rita\", 10000)\n",
        "a1.deposit(5000)\n",
        "a1.withdraw(2000)\n",
        "print(f\"the owner is: {a1.owner}\")\n",
        "print(f\"balance is: {a1.get_balance()}\")"
      ],
      "metadata": {
        "colab": {
          "base_uri": "https://localhost:8080/"
        },
        "id": "Na1Q8_6rtNxc",
        "outputId": "9ce485a5-c19c-46a9-bba4-3a87c7648848"
      },
      "execution_count": 121,
      "outputs": [
        {
          "output_type": "stream",
          "name": "stdout",
          "text": [
            "the owner is: rita\n",
            "balance is: 13000\n"
          ]
        }
      ]
    },
    {
      "cell_type": "code",
      "source": [
        "# 6. Demonstrate runtime polymorphism using a method play() in a base class Instrument. Derive classes Guitar and Piano that implement their own version of play().\n",
        "\n",
        "class Instrument:\n",
        "    def play(self):\n",
        "        print(\"Instrument makes a sound.\")\n",
        "\n",
        "class Guitar(Instrument):\n",
        "    def play(self):\n",
        "        print(\"Guitar: Strumming.\")\n",
        "\n",
        "class Piano(Instrument):\n",
        "    def play(self):\n",
        "        print(\"Piano: Pressing keys.\")\n",
        "\n",
        "instrument1 = Instrument()\n",
        "guitar1 = Guitar()\n",
        "piano1 = Piano()\n",
        "\n",
        "instrument1.play()\n",
        "guitar1.play()\n",
        "piano1.play()\n",
        "\n",
        "\n"
      ],
      "metadata": {
        "colab": {
          "base_uri": "https://localhost:8080/"
        },
        "id": "33AvJyOtv-Oz",
        "outputId": "ed8382fd-a6cc-4e01-c382-cdd6cc2f4803"
      },
      "execution_count": 122,
      "outputs": [
        {
          "output_type": "stream",
          "name": "stdout",
          "text": [
            "Instrument makes a sound.\n",
            "Guitar: Strumming.\n",
            "Piano: Pressing keys.\n"
          ]
        }
      ]
    },
    {
      "cell_type": "code",
      "source": [
        "# 7. Create a class MathOperations with a class method add_numbers() to add two numbers and a static method subtract_numbers() to subtract two numbers.\n",
        "\n",
        "class MathOperations:   # A class demonstrating class methods and static methods.\n",
        "\n",
        "    @classmethod\n",
        "    def add_numbers(cls, num1, num2):   # A class method to add two numbers.\n",
        "\n",
        "        print(f\"Adding {num1} and {num2} using a class method.\")\n",
        "        return num1 + num2\n",
        "\n",
        "    @staticmethod\n",
        "    def subtract_numbers(num1, num2):   # A static method to subtract two numbers.\n",
        "\n",
        "        print(f\"Subtracting {num2} from {num1} using a static method.\")\n",
        "        return num1 - num2\n",
        "\n",
        "\n",
        "print(\"Demonstrating Class Method\")\n",
        "# Call the class method using the class name\n",
        "sum_result = MathOperations.add_numbers(10, 5)\n",
        "print(f\"Sum: {sum_result}\")\n",
        "print(\"-\" * 30)\n",
        "\n",
        "print(\"\\nDemonstrating Static Method\")\n",
        "# Call the static method using the class name\n",
        "difference_result = MathOperations.subtract_numbers(20, 8)\n",
        "print(f\"Difference: {difference_result}\")\n",
        "\n",
        "\n"
      ],
      "metadata": {
        "colab": {
          "base_uri": "https://localhost:8080/"
        },
        "id": "rmtM82t2y9Uz",
        "outputId": "cf77f804-9d8a-425e-f9d7-abdd9536ace2"
      },
      "execution_count": 123,
      "outputs": [
        {
          "output_type": "stream",
          "name": "stdout",
          "text": [
            "Demonstrating Class Method\n",
            "Adding 10 and 5 using a class method.\n",
            "Sum: 15\n",
            "------------------------------\n",
            "\n",
            "Demonstrating Static Method\n",
            "Subtracting 8 from 20 using a static method.\n",
            "Difference: 12\n"
          ]
        }
      ]
    },
    {
      "cell_type": "code",
      "source": [
        "# 8. Implement a class Person with a class method to count the total number of persons created.\n",
        "\n",
        "class Person:\n",
        "\n",
        "    total_persons = 0\n",
        "\n",
        "    def __init__(self, name):\n",
        "\n",
        "      # Initializes a Person object and increments the total_persons count.\n",
        "\n",
        "        self.name = name\n",
        "        Person.total_persons += 1\n",
        "        print(f\"Person '{self.name}' created.\")\n",
        "\n",
        "    @classmethod\n",
        "    def get_total_persons(cls):   # A class method that returns the total number of Person objects created.\n",
        "\n",
        "        return cls.total_persons\n",
        "\n",
        "\n",
        "print(\"Creating Person Objects\")\n",
        "\n",
        "person1 = Person(\"Alice\")\n",
        "person2 = Person(\"Bob\")\n",
        "person3 = Person(\"Charlie\")\n",
        "print(\"--\" *15)\n",
        "\n",
        "print(\"\\nChecking Total Persons Created\")\n",
        "print(f\"Total number of persons created: {Person.get_total_persons()}\")\n",
        "print(\"--\" *15)\n",
        "\n",
        "# Adding a new person\n",
        "print(\"\\nAdding a New Person\")\n",
        "person4 = Person(\"David\")\n",
        "print(f\"Total number of persons created after adding David: {Person.get_total_persons()}\")\n"
      ],
      "metadata": {
        "colab": {
          "base_uri": "https://localhost:8080/"
        },
        "id": "3EpHNy96zc_h",
        "outputId": "ef3ea674-c096-44dc-b606-b183a999d976"
      },
      "execution_count": 124,
      "outputs": [
        {
          "output_type": "stream",
          "name": "stdout",
          "text": [
            "Creating Person Objects\n",
            "Person 'Alice' created.\n",
            "Person 'Bob' created.\n",
            "Person 'Charlie' created.\n",
            "------------------------------\n",
            "\n",
            "Checking Total Persons Created\n",
            "Total number of persons created: 3\n",
            "------------------------------\n",
            "\n",
            "Adding a New Person\n",
            "Person 'David' created.\n",
            "Total number of persons created after adding David: 4\n"
          ]
        }
      ]
    },
    {
      "cell_type": "code",
      "source": [
        "# 9. Write a class Fraction with attributes numerator and denominator. Override the str method to display the fraction as \"numerator/denominator\"\n",
        "\n",
        "class Fraction:\n",
        "\n",
        "    def __init__(self, numerator, denominator):\n",
        "\n",
        "        self.numerator = numerator\n",
        "        self.denominator = denominator\n",
        "\n",
        "    def __str__(self):\n",
        "\n",
        "        return f\"{self.numerator}/{self.denominator}\"\n",
        "\n",
        "    def __repr__(self):\n",
        "\n",
        "        return f\"Fraction({self.numerator}, {self.denominator})\"\n",
        "\n",
        "my_fraction = Fraction(15, 22)\n",
        "print(my_fraction)"
      ],
      "metadata": {
        "colab": {
          "base_uri": "https://localhost:8080/"
        },
        "id": "VrCZfnqC0P0X",
        "outputId": "e862a0a4-b767-4b2b-e4f0-bee6d51ada0b"
      },
      "execution_count": 125,
      "outputs": [
        {
          "output_type": "stream",
          "name": "stdout",
          "text": [
            "15/22\n"
          ]
        }
      ]
    },
    {
      "cell_type": "code",
      "source": [
        "# 10. Demonstrate operator overloading by creating a class Vector and overriding the add method to add two vectors.\n",
        "\n",
        "class Vector:\n",
        "\n",
        "    def __init__(self, x, y):\n",
        "\n",
        "        self.x = x\n",
        "        self.y = y\n",
        "\n",
        "    def __add__(self, other):\n",
        "\n",
        "        if not isinstance(other, Vector):\n",
        "            raise TypeError(\"Can only add a Vector object to another Vector object.\")\n",
        "\n",
        "        new_x = self.x + other.x\n",
        "        new_y = self.y + other.y\n",
        "        return Vector(new_x, new_y)\n",
        "\n",
        "    def __str__(self):\n",
        "\n",
        "        return f\"Vector({self.x}, {self.y})\"\n",
        "\n",
        "    def __repr__(self):\n",
        "\n",
        "        return f\"Vector({self.x}, {self.y})\"\n",
        "\n",
        "\n",
        "# Create Vector objects\n",
        "vector1 = Vector(2, 3)\n",
        "vector2 = Vector(5, 7)\n",
        "vector3 = Vector(-1, 4)\n",
        "\n",
        "print(f\"Vector 1: {vector1}\")\n",
        "print(f\"Vector 2: {vector2}\")\n",
        "\n",
        "# Add two vectors using the '+' operator\n",
        "sum_vector = vector1 + vector2\n",
        "print(f\"\\nSum of Vector 1 and Vector 2: {sum_vector}\")\n",
        "\n",
        "# Add multiple vectors\n",
        "another_sum = vector1 + vector2 + vector3\n",
        "print(f\"Sum of Vector 1, Vector 2, and Vector 3: {another_sum}\")\n",
        "\n"
      ],
      "metadata": {
        "colab": {
          "base_uri": "https://localhost:8080/"
        },
        "id": "-lbHY43y1Wsv",
        "outputId": "a44ac3f1-1462-4dea-c4bb-d75b08b55da8"
      },
      "execution_count": 126,
      "outputs": [
        {
          "output_type": "stream",
          "name": "stdout",
          "text": [
            "Vector 1: Vector(2, 3)\n",
            "Vector 2: Vector(5, 7)\n",
            "\n",
            "Sum of Vector 1 and Vector 2: Vector(7, 10)\n",
            "Sum of Vector 1, Vector 2, and Vector 3: Vector(6, 14)\n"
          ]
        }
      ]
    },
    {
      "cell_type": "code",
      "source": [
        "# 11. Create a class Person with attributes name and age. Add a method greet() that prints \"Hello, my name is {name} and I am {age} years old.\"\n",
        "\n",
        "class Person:\n",
        "\n",
        "    def __init__(self, name, age):\n",
        "\n",
        "        self.name = name\n",
        "        self.age = age\n",
        "\n",
        "    def greet(self):\n",
        "\n",
        "        print(f\"Hello, my name is {self.name} and I am {self.age} years old.\")\n",
        "\n",
        "\n",
        "person1 = Person(\"Alice\", 30)\n",
        "person2 = Person(\"Bob\", 24)\n",
        "person3 = Person(\"Charlie\", 45)\n",
        "\n",
        "print(\"\\nGreetings from different persons:\")\n",
        "person1.greet()\n",
        "person2.greet()\n",
        "person3.greet()\n"
      ],
      "metadata": {
        "colab": {
          "base_uri": "https://localhost:8080/"
        },
        "id": "k9xtHU1N14JI",
        "outputId": "f6775b87-5ed8-4214-d63d-749c688e9e1e"
      },
      "execution_count": 127,
      "outputs": [
        {
          "output_type": "stream",
          "name": "stdout",
          "text": [
            "\n",
            "Greetings from different persons:\n",
            "Hello, my name is Alice and I am 30 years old.\n",
            "Hello, my name is Bob and I am 24 years old.\n",
            "Hello, my name is Charlie and I am 45 years old.\n"
          ]
        }
      ]
    },
    {
      "cell_type": "code",
      "source": [
        "# 12. Implement a class Student with attributes name and grades. Create a method average_grade() to compute the average of the grades.\n",
        "\n",
        "class Student:\n",
        "\n",
        "    def __init__(self, name, grades):\n",
        "\n",
        "        self.name = name\n",
        "        self.grades = grades\n",
        "\n",
        "    def average_grade(self):\n",
        "\n",
        "        if not self.grades:\n",
        "            return 0\n",
        "        return sum(self.grades) / len(self.grades)\n",
        "\n",
        "\n",
        "\n",
        "student1 = Student(\"Alice\", [85, 90, 78, 92])\n",
        "student2 = Student(\"Bob\", [70, 65, 80])\n",
        "student3 = Student(\"Charlie\", [])\\\n",
        "\n",
        "print(f\"Student: {student1.name}, Grades: {student1.grades}, Average Grade: {student1.average_grade():.2f}\")\n",
        "print(f\"Student: {student2.name}, Grades: {student2.grades}, Average Grade: {student2.average_grade():.2f}\")\n",
        "print(f\"Student: {student3.name}, Grades: {student3.grades}, Average Grade: {student3.average_grade():.2f}\")\n"
      ],
      "metadata": {
        "colab": {
          "base_uri": "https://localhost:8080/"
        },
        "id": "IvPY8ekb2gwk",
        "outputId": "9cca15cf-1000-4fa3-9391-d76a368c9817"
      },
      "execution_count": 128,
      "outputs": [
        {
          "output_type": "stream",
          "name": "stdout",
          "text": [
            "Student: Alice, Grades: [85, 90, 78, 92], Average Grade: 86.25\n",
            "Student: Bob, Grades: [70, 65, 80], Average Grade: 71.67\n",
            "Student: Charlie, Grades: [], Average Grade: 0.00\n"
          ]
        }
      ]
    },
    {
      "cell_type": "code",
      "source": [
        "# 13. Create a class Rectangle with methods set_dimensions() to set the dimensions and area() to calculate the area.\n",
        "\n",
        "class Rectangle:\n",
        "\n",
        "    def __init__(self, width=0, height=0):\n",
        "\n",
        "        self.width = width\n",
        "        self.height = height\n",
        "\n",
        "    def set_dimensions(self, width, height):    # Sets the width and height of the rectangle.\n",
        "\n",
        "        self.width = width\n",
        "        self.height = height\n",
        "\n",
        "    def area(self):   # Calculates and returns the area of the rectangle.\n",
        "\n",
        "        return self.width * self.height\n",
        "\n",
        "my_rectangle1 = Rectangle()\n",
        "my_rectangle1.set_dimensions(10, 5)\n",
        "rectangle_area = my_rectangle1.area()\n",
        "print(f\"The area of the rectangle is: {rectangle_area}\")\n",
        "\n",
        "my_rectangle2 = Rectangle()\n",
        "my_rectangle2.set_dimensions(15, 16)\n",
        "rectangle_area = my_rectangle2.area()\n",
        "print(f\"The area of the rectangle is: {rectangle_area}\")"
      ],
      "metadata": {
        "colab": {
          "base_uri": "https://localhost:8080/"
        },
        "id": "E1mAyYvs3F44",
        "outputId": "ee2d1337-3b2d-4065-bab2-8580b9e320f9"
      },
      "execution_count": 129,
      "outputs": [
        {
          "output_type": "stream",
          "name": "stdout",
          "text": [
            "The area of the rectangle is: 50\n",
            "The area of the rectangle is: 240\n"
          ]
        }
      ]
    },
    {
      "cell_type": "code",
      "source": [
        "# 14. Create a class Employee with a method calculate_salary() that computes the salary based on hours worked and hourly rate. Create a derived class Manager that adds a bonus to the salary\n",
        "\n",
        "class Employee:\n",
        "\n",
        "    def __init__(self, name, hours_worked, hourly_rate):\n",
        "        self.name = name\n",
        "        self.hours_worked = hours_worked\n",
        "        self.hourly_rate = hourly_rate\n",
        "\n",
        "    def calculate_salary(self):\n",
        "\n",
        "        return self.hours_worked * self.hourly_rate\n",
        "\n",
        "class Manager(Employee):\n",
        "\n",
        "    def __init__(self, name, hours_worked, hourly_rate, bonus):\n",
        "        super().__init__(name, hours_worked, hourly_rate)\n",
        "        self.bonus = bonus\n",
        "\n",
        "    def calculate_salary(self):\n",
        "\n",
        "        basic_salary = super().calculate_salary()\n",
        "        return basic_salary + self.bonus\n",
        "\n",
        "\n",
        "employee1 = Employee(\"Alice\", 160, 25)\n",
        "manager1 = Manager(\"Bob\", 160, 35, 500)\n",
        "\n",
        "print(f\"Alice's Salary: ₹ {employee1.calculate_salary()}\")\n",
        "print(f\"Bob's Salary: ₹ {manager1.calculate_salary()}\")\n",
        "\n"
      ],
      "metadata": {
        "colab": {
          "base_uri": "https://localhost:8080/"
        },
        "id": "wJL4COBQ3Z5n",
        "outputId": "bc4e8e67-0dce-4c07-ff5e-8817ccf5dcae"
      },
      "execution_count": 130,
      "outputs": [
        {
          "output_type": "stream",
          "name": "stdout",
          "text": [
            "Alice's Salary: ₹ 4000\n",
            "Bob's Salary: ₹ 6100\n"
          ]
        }
      ]
    },
    {
      "cell_type": "code",
      "source": [
        "# 15. Create a class Product with attributes name, price, and quantity. Implement a method total_price() that calculates the total price of the product.\n",
        "\n",
        "class Product:\n",
        "\n",
        "    def __init__(self, name, price, quantity):\n",
        "\n",
        "        self.name = name\n",
        "        self.price = price\n",
        "        self.quantity = quantity\n",
        "\n",
        "    def total_price(self):\n",
        "\n",
        "        return self.price * self.quantity\n",
        "\n",
        "\n",
        "\n",
        "product1 = Product(\"Laptop\", 120050, 2)\n",
        "product2 = Product(\"Mouse\", 250, 5)\n",
        "product3 = Product(\"Keyboard\", 759, 1)\n",
        "\n",
        "print(f\"Product: {product1.name}, Price: ₹{product1.price}, Quantity: {product1.quantity}, Total Price: ₹{product1.total_price()}\")\n",
        "print(f\"Product: {product2.name}, Price: ₹{product2.price}, Quantity: {product2.quantity}, Total Price: ₹{product2.total_price()}\")\n",
        "print(f\"Product: {product3.name}, Price: ₹{product3.price}, Quantity: {product3.quantity}, Total Price: ₹{product3.total_price()}\")\n",
        "\n"
      ],
      "metadata": {
        "colab": {
          "base_uri": "https://localhost:8080/"
        },
        "id": "rze_XRJI4KQj",
        "outputId": "96e23856-6e61-4c78-82d8-186fdd699903"
      },
      "execution_count": 131,
      "outputs": [
        {
          "output_type": "stream",
          "name": "stdout",
          "text": [
            "Product: Laptop, Price: ₹120050, Quantity: 2, Total Price: ₹240100\n",
            "Product: Mouse, Price: ₹250, Quantity: 5, Total Price: ₹1250\n",
            "Product: Keyboard, Price: ₹759, Quantity: 1, Total Price: ₹759\n"
          ]
        }
      ]
    },
    {
      "cell_type": "code",
      "source": [
        "# 16. Create a class Animal with an abstract method sound(). Create two derived classes Cow and Sheep that implement the sound() method.\n",
        "\n",
        "from abc import ABC, abstractmethod\n",
        "\n",
        "class Animal(ABC):\n",
        "\n",
        "    @abstractmethod\n",
        "    def sound(self):\n",
        "        pass\n",
        "\n",
        "\n",
        "class Cow(Animal):\n",
        "    def sound(self):\n",
        "        print(\"Moo!\")\n",
        "\n",
        "class Sheep(Animal):\n",
        "    def sound(self):\n",
        "        print(\"Baa!\")\n",
        "\n",
        "\n",
        "cow = Cow()\n",
        "sheep = Sheep()\n",
        "\n",
        "cow.sound()\n",
        "sheep.sound()\n",
        "\n",
        "\n"
      ],
      "metadata": {
        "colab": {
          "base_uri": "https://localhost:8080/"
        },
        "id": "IA9ZnjXj4muD",
        "outputId": "59c07610-5d9d-4fef-cf5c-3a63f107c65c"
      },
      "execution_count": 132,
      "outputs": [
        {
          "output_type": "stream",
          "name": "stdout",
          "text": [
            "Moo!\n",
            "Baa!\n"
          ]
        }
      ]
    },
    {
      "cell_type": "code",
      "source": [
        "# 17. Create a class Book with attributes title, author, and year_published. Add a method get_book_info() that returns a formatted string with the book's details.\n",
        "\n",
        "class Book:\n",
        "\n",
        "    def __init__(self, title, author, year_published):\n",
        "\n",
        "        self.title = title\n",
        "        self.author = author\n",
        "        self.year_published = year_published\n",
        "\n",
        "    def get_book_info(self):\n",
        "\n",
        "        return f\"Title: \\\"{self.title}\\\", Author: {self.author}, Published: {self.year_published}\"\n",
        "\n",
        "book1 = Book(\"The Hitchhiker's Guide to the Galaxy\", \"Douglas Adams\", 1979)\n",
        "book2 = Book(\"Pride and Prejudice\", \"Jane Austen\", 1813)\n",
        "book3 = Book(\"1984\", \"George Orwell\", 1949)\n",
        "\n",
        "print(book1.get_book_info())\n",
        "print(book2.get_book_info())\n",
        "print(book3.get_book_info())\n"
      ],
      "metadata": {
        "colab": {
          "base_uri": "https://localhost:8080/"
        },
        "id": "2W8-5RLU5fCn",
        "outputId": "f12c11dc-0a84-4fe0-dafd-0324cd4b4058"
      },
      "execution_count": 133,
      "outputs": [
        {
          "output_type": "stream",
          "name": "stdout",
          "text": [
            "Title: \"The Hitchhiker's Guide to the Galaxy\", Author: Douglas Adams, Published: 1979\n",
            "Title: \"Pride and Prejudice\", Author: Jane Austen, Published: 1813\n",
            "Title: \"1984\", Author: George Orwell, Published: 1949\n"
          ]
        }
      ]
    },
    {
      "cell_type": "code",
      "source": [
        "# 18. Create a class House with attributes address and price. Create a derived class Mansion that adds an attribute number_of_rooms.\n",
        "\n",
        "class House:\n",
        "\n",
        "    def __init__(self, address, price):\n",
        "\n",
        "        self.address = address\n",
        "        self.price = price\n",
        "        print(f\"House created at {self.address} with price ₹{self.price:,.2f}\")\n",
        "\n",
        "    def get_info(self):\n",
        "\n",
        "        return f\"Address: {self.address}, Price: ₹{self.price:,.2f}\"\n",
        "\n",
        "class Mansion(House):\n",
        "\n",
        "    def __init__(self, address, price, number_of_rooms):\n",
        "\n",
        "        super().__init__(address, price)\n",
        "        self.number_of_rooms = number_of_rooms\n",
        "        print(f\"Mansion created with {self.number_of_rooms} rooms.\")\n",
        "\n",
        "    def get_info(self):\n",
        "\n",
        "        return f\"{super().get_info()}, Rooms: {self.number_of_rooms}\"\n",
        "\n",
        "\n",
        "\n",
        "house1 = House(\"B-10, Green Park, Delhi\", 7500000.00)\n",
        "print(f\"House Info: {house1.get_info()}\")\n",
        "print(\"-\" * 30)\n",
        "\n",
        "mansion1 = Mansion(\"Palm Springs, Bandra, Mumbai\", 15000000.00, 20)\n",
        "print(f\"Mansion Info: {mansion1.get_info()}\")\n",
        "print(\"-\" * 30)\n",
        "\n",
        "print(f\"House 1 Address: {house1.address}\")\n",
        "print(f\"Mansion 1 Price: ₹{mansion1.price:,.2f}\")\n",
        "print(f\"Mansion 1 Number of Rooms: {mansion1.number_of_rooms}\")\n"
      ],
      "metadata": {
        "colab": {
          "base_uri": "https://localhost:8080/"
        },
        "id": "m8h_vvfa6MDs",
        "outputId": "e55b770a-4a2c-48d4-d69d-32e500eb95a1"
      },
      "execution_count": 134,
      "outputs": [
        {
          "output_type": "stream",
          "name": "stdout",
          "text": [
            "House created at B-10, Green Park, Delhi with price ₹7,500,000.00\n",
            "House Info: Address: B-10, Green Park, Delhi, Price: ₹7,500,000.00\n",
            "------------------------------\n",
            "House created at Palm Springs, Bandra, Mumbai with price ₹15,000,000.00\n",
            "Mansion created with 20 rooms.\n",
            "Mansion Info: Address: Palm Springs, Bandra, Mumbai, Price: ₹15,000,000.00, Rooms: 20\n",
            "------------------------------\n",
            "House 1 Address: B-10, Green Park, Delhi\n",
            "Mansion 1 Price: ₹15,000,000.00\n",
            "Mansion 1 Number of Rooms: 20\n"
          ]
        }
      ]
    }
  ]
}